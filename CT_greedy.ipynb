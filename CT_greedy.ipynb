{
 "cells": [
  {
   "cell_type": "code",
   "execution_count": 1,
   "metadata": {},
   "outputs": [
    {
     "name": "stdout",
     "output_type": "stream",
     "text": [
      "6\n"
     ]
    }
   ],
   "source": [
    "n=1260\n",
    "count=0\n",
    "\n",
    "coin_types=[500,100,50,10]\n",
    "\n",
    "for coin in coin_types:\n",
    "    count+=n//coin # count = count + n//coin\n",
    "    n%=coin # n = n % coin\n",
    "\n",
    "print(count)"
   ]
  },
  {
   "cell_type": "code",
   "execution_count": null,
   "metadata": {},
   "outputs": [],
   "source": [
    "import sys\n",
    "N, M, K= map(int, input().split()) # M번 더하고, 같은 인덱스 K번 이하 가능\n",
    "\n",
    "numbers=list(map(int,input().split()))\n",
    "#print(numbers)\n",
    "\n",
    "numbers.sort()\n",
    "max=numbers[N-1]\n",
    "big=numbers[N-2]\n",
    "\n",
    "result=0\n",
    "index=0\n",
    "for i in range(0,M):\n",
    "    if index<K:\n",
    "        index+=1\n",
    "        result+=max\n",
    "    else:\n",
    "        result+=big\n",
    "        index=0\n",
    "    \n",
    "#for i in range(0,K):\n",
    "#   result+=max\n",
    "\n",
    "#result+=big\n",
    "\n",
    "print(max)\n",
    "print(big)\n",
    "print(result)"
   ]
  },
  {
   "cell_type": "code",
   "execution_count": null,
   "metadata": {},
   "outputs": [],
   "source": [
    "index=0\n",
    "for i in range(0,M):\n",
    "    if index<K:\n",
    "        index+=index\n",
    "        result+=max\n",
    "    else:\n",
    "        result+=big\n",
    "        index=0"
   ]
  },
  {
   "cell_type": "code",
   "execution_count": null,
   "metadata": {},
   "outputs": [],
   "source": [
    "n, m, k=map(int, input().split())\n",
    "data=list(map(int,input().split()))\n",
    "          \n",
    "data.sort()\n",
    "first=data[n-1]\n",
    "second=data[n-2]\n",
    "\n",
    "#가장 큰 수가 더해지는 횟수 계산          \n",
    "count=int(m/(k+1))*k\n",
    "count+=m%(k+1)\n",
    "\n",
    "result=0\n",
    "result+=(count)*first\n",
    "result+=(m-count)*second\n",
    "          \n",
    "print(result)"
   ]
  },
  {
   "cell_type": "code",
   "execution_count": 5,
   "metadata": {},
   "outputs": [
    {
     "name": "stdout",
     "output_type": "stream",
     "text": [
      "3 3\n",
      "2 2 2\n",
      "3 1 2\n",
      "4 1 4\n",
      "2\n"
     ]
    }
   ],
   "source": [
    "n, m = map(int, input().split())\n",
    "result=0 \n",
    "\n",
    "for _ in range(0,n):\n",
    "    data=list(map(int, input().split()))\n",
    "    min_value=min(data)\n",
    "    if(min_value>result):\n",
    "        result=min_value\n",
    "print(result)"
   ]
  },
  {
   "cell_type": "code",
   "execution_count": 8,
   "metadata": {},
   "outputs": [
    {
     "name": "stdout",
     "output_type": "stream",
     "text": [
      "17 4\n",
      "3\n"
     ]
    }
   ],
   "source": [
    "n, k = map(int, input().split())\n",
    "i=0\n",
    "\n",
    "while(n!=1):\n",
    "    if(n%k==0):\n",
    "        n/=k\n",
    "        i+=1\n",
    "    else: \n",
    "        n-=1\n",
    "        i+=1\n",
    "\n",
    "print(i)"
   ]
  },
  {
   "cell_type": "code",
   "execution_count": null,
   "metadata": {},
   "outputs": [],
   "source": []
  },
  {
   "cell_type": "code",
   "execution_count": null,
   "metadata": {},
   "outputs": [],
   "source": []
  },
  {
   "cell_type": "code",
   "execution_count": null,
   "metadata": {},
   "outputs": [],
   "source": []
  }
 ],
 "metadata": {
  "kernelspec": {
   "display_name": "Python 3",
   "language": "python",
   "name": "python3"
  },
  "language_info": {
   "codemirror_mode": {
    "name": "ipython",
    "version": 3
   },
   "file_extension": ".py",
   "mimetype": "text/x-python",
   "name": "python",
   "nbconvert_exporter": "python",
   "pygments_lexer": "ipython3",
   "version": "3.8.3"
  }
 },
 "nbformat": 4,
 "nbformat_minor": 4
}
